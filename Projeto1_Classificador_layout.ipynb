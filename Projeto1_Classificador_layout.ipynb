{
 "cells": [
  {
   "cell_type": "markdown",
   "metadata": {},
   "source": [
    "# Projeto 1 - Ciência dos Dados"
   ]
  },
  {
   "cell_type": "markdown",
   "metadata": {},
   "source": [
    "Nome: Cesar Ades\n",
    "\n",
    "Nome: Jonathan Sutton"
   ]
  },
  {
   "cell_type": "markdown",
   "metadata": {},
   "source": [
    "**Atenção:** Serão permitidos grupos de três pessoas, mas com uma rubrica mais exigente. Grupos deste tamanho precisarão fazer um questionário de avaliação de trabalho em equipe"
   ]
  },
  {
   "cell_type": "markdown",
   "metadata": {},
   "source": [
    "___\n",
    "Carregando algumas bibliotecas:"
   ]
  },
  {
   "cell_type": "code",
   "execution_count": 1,
   "metadata": {},
   "outputs": [
    {
     "ename": "ModuleNotFoundError",
     "evalue": "No module named 'emoji'",
     "output_type": "error",
     "traceback": [
      "\u001b[1;31m---------------------------------------------------------------------------\u001b[0m",
      "\u001b[1;31mModuleNotFoundError\u001b[0m                       Traceback (most recent call last)",
      "\u001b[1;32m<ipython-input-1-a7964ee6be53>\u001b[0m in \u001b[0;36m<module>\u001b[1;34m\u001b[0m\n\u001b[0;32m      5\u001b[0m \u001b[1;32mimport\u001b[0m \u001b[0mos\u001b[0m\u001b[1;33m\u001b[0m\u001b[1;33m\u001b[0m\u001b[0m\n\u001b[0;32m      6\u001b[0m \u001b[1;32mimport\u001b[0m \u001b[0mre\u001b[0m\u001b[1;33m\u001b[0m\u001b[1;33m\u001b[0m\u001b[0m\n\u001b[1;32m----> 7\u001b[1;33m \u001b[1;32mfrom\u001b[0m \u001b[0memoji\u001b[0m \u001b[1;32mimport\u001b[0m \u001b[0mUNICODE_EMOJI\u001b[0m\u001b[1;33m\u001b[0m\u001b[1;33m\u001b[0m\u001b[0m\n\u001b[0m",
      "\u001b[1;31mModuleNotFoundError\u001b[0m: No module named 'emoji'"
     ]
    }
   ],
   "source": [
    "%matplotlib inline\n",
    "import pandas as pd\n",
    "import matplotlib.pyplot as plt\n",
    "import numpy as np\n",
    "import os\n",
    "import re\n",
    "from emoji import UNICODE_EMOJI"
   ]
  },
  {
   "cell_type": "markdown",
   "metadata": {},
   "source": [
    "**Em `filename`, coloque o nome do seu arquivo de dados!**"
   ]
  },
  {
   "cell_type": "code",
   "execution_count": null,
   "metadata": {
    "scrolled": false
   },
   "outputs": [],
   "source": [
    "import os\n",
    "\n",
    "filename = 'ps4.xlsx'\n",
    "if filename in os.listdir():\n",
    "    print(f'Encontrei o arquivo {filename}, tudo certo para prosseguir com o trabalho!')\n",
    "else:\n",
    "    print(f'Não encontrei o arquivo {filename} aqui no diretório {os.getcwd()}, será que você não baixou o arquivo?')"
   ]
  },
  {
   "cell_type": "markdown",
   "metadata": {},
   "source": [
    "Carregando a base de dados com os tweets classificados como relevantes e não relevantes:"
   ]
  },
  {
   "cell_type": "code",
   "execution_count": null,
   "metadata": {},
   "outputs": [],
   "source": [
    "train = pd.read_excel(filename)\n",
    "train.head(5)"
   ]
  },
  {
   "cell_type": "code",
   "execution_count": null,
   "metadata": {},
   "outputs": [],
   "source": [
    "test = pd.read_excel(filename, sheet_name = 'Teste')\n",
    "test.head(5)"
   ]
  },
  {
   "cell_type": "markdown",
   "metadata": {},
   "source": [
    "___\n",
    "## Classificador automático de sentimento\n"
   ]
  },
  {
   "cell_type": "markdown",
   "metadata": {},
   "source": [
    "Faça aqui uma descrição do seu produto e o que considerou como relevante ou não relevante na classificação dos tweets.\n",
    "\n",
    "\n",
    "Nosso produto é o Play Station 4 que é um console para videogames fabricado pela Sony, tem diversos jogos e utiliza controles bluetooth.Consideramos tweets relevantes aqueles que envolviam informações sobre o preço, local de fabricação, performance do produto, jogos que podem ser usados, lançamentos de jogos e falhas que ocorrem com o console e e os produtos relacionados a ele."
   ]
  },
  {
   "cell_type": "markdown",
   "metadata": {},
   "source": [
    "___\n",
    "### Montando um Classificador Naive-Bayes\n",
    "\n",
    "Considerando apenas as mensagens da planilha Treinamento, ensine  seu classificador."
   ]
  },
  {
   "cell_type": "code",
   "execution_count": null,
   "metadata": {},
   "outputs": [],
   "source": [
    "#Definindo as variáveis como categóricas\n",
    "train['Relevância'] = train['Relevância'].astype('category')\n",
    "test['Relevância'] = test['Relevância'].astype('category')\n",
    "train['Relevância'].cat.categories = ['Não relevante','Relevante']  \n",
    "test['Relevância'].cat.categories = ['Não relevante','Relevante']"
   ]
  },
  {
   "cell_type": "code",
   "execution_count": null,
   "metadata": {},
   "outputs": [],
   "source": [
    "test.head(5)"
   ]
  },
  {
   "cell_type": "code",
   "execution_count": null,
   "metadata": {},
   "outputs": [],
   "source": [
    "#Função que separa os emojis\n",
    "def separate_emoji(text): #separa emojis dos outros caracteres\n",
    "    return ''.join(' ' + char if char in UNICODE_EMOJI else char for char in text).strip()"
   ]
  },
  {
   "cell_type": "code",
   "execution_count": null,
   "metadata": {},
   "outputs": [],
   "source": [
    "#Função que limpa os tweets\n",
    "def cleanup(text):\n",
    "    \"\"\"\n",
    "        Função de limpeza muito simples que troca alguns sinais básicos por espaços\n",
    "    \"\"\"\n",
    "    #import string\n",
    "    punctuation = '[!-.:?;/@]' # Note que os sinais [] são delimitadores de um conjunto.\n",
    "    pattern = re.compile(punctuation)\n",
    "    text_subbed = re.sub(pattern, '', separate_emoji(text))\n",
    "    return text_subbed    "
   ]
  },
  {
   "cell_type": "code",
   "execution_count": null,
   "metadata": {},
   "outputs": [],
   "source": [
    "def treinamento(data):\n",
    "    p_relevantes = dict()\n",
    "    p_irrelevantes = dict()\n",
    "    p_possiveis = set()\n",
    "    for index,row in data.iterrows():\n",
    "        tweet = row.Treinamento\n",
    "        for palavra in cleanup(tweet).split():\n",
    "            p_possiveis.add(palavra)\n",
    "            if row.Relevância == 'Relevante':\n",
    "                p_relevantes[palavra] = p_relevantes.get(palavra,0)+1\n",
    "            else:\n",
    "                p_irrelevantes[palavra] = p_irrelevantes.get(palavra,0)+1\n",
    "    return (p_possiveis,p_relevantes,p_irrelevantes)"
   ]
  },
  {
   "cell_type": "code",
   "execution_count": null,
   "metadata": {},
   "outputs": [],
   "source": [
    "p_count = treinamento(train)"
   ]
  },
  {
   "cell_type": "code",
   "execution_count": null,
   "metadata": {},
   "outputs": [],
   "source": [
    "#Imprime informações relevantes sobre o excel.\n",
    "resultados_treino = train.Relevância.value_counts(True)\n",
    "relevantes_treino = resultados_treino[0]\n",
    "irrelevantes_treino = resultados_treino[1]\n",
    "resultados_brutos_treino = train.Relevância.value_counts()\n",
    "relevantes_brutos_treino = resultados_brutos_treino[0]\n",
    "irrelevantes_brutos_treino = resultados_brutos_treino[1]\n",
    "tweets_totais_treino = relevantes_brutos_treino + irrelevantes_brutos_treino\n",
    "resultados_teste = test.Relevância.value_counts(True)\n",
    "relevantes_teste = resultados_teste[0]\n",
    "irrelevantes_teste = resultados_teste[1]\n",
    "resultados_brutos_teste = test.Relevância.value_counts()\n",
    "relevantes_brutos_teste = resultados_brutos_teste[0]\n",
    "irrelevantes_brutos_teste = resultados_brutos_teste[1]\n",
    "tweets_totais_teste = relevantes_brutos_teste + irrelevantes_brutos_teste\n",
    "\n",
    "print('Tweets relevantes em Treinamento: {0}'.format(relevantes_brutos_treino))\n",
    "print('Tweets irrelevantes em Treinamento: {0}'.format(irrelevantes_brutos_treino))\n",
    "print('Tweets totais em Treinamento: {0}'.format(tweets_totais_treino))\n",
    "print('Porcentagem de Tweets relevantes em Treinamento: {0:.2f}%'.format(relevantes_treino*100))\n",
    "print('Porcentagem de Tweets irrelevantes em Treinamento: {0:.2f}%'.format(irrelevantes_treino*100))\n",
    "print('Tweets relevantes em Teste: {0}'.format(relevantes_brutos_teste))\n",
    "print('Tweets irrelevantes em Teste: {0}'.format(irrelevantes_brutos_teste))\n",
    "print('Tweets totais em Teste: {0}'.format(tweets_totais_teste))\n",
    "print('Porcentagem de Tweets relevantes em Teste: {0:.2f}%'.format(relevantes_teste*100))\n",
    "print('Porcentagem de Tweets irrelevantes em Teste: {0:.2f}%'.format(irrelevantes_teste*100))"
   ]
  },
  {
   "cell_type": "markdown",
   "metadata": {},
   "source": [
    "___\n",
    "### Verificando a performance do Classificador\n",
    "\n",
    "Agora você deve testar o seu classificador com a base de Testes."
   ]
  },
  {
   "cell_type": "code",
   "execution_count": 2,
   "metadata": {},
   "outputs": [],
   "source": [
    "#Função Naive Bayes\n",
    "def classificador_de_tweets(data,words):\n",
    "    p_possiveis,p_relevantes,p_irrelevantes = words\n",
    "    classificacoes = []\n",
    "    for index,row in data.iterrows():\n",
    "        tweet = row.Teste\n",
    "        prob_relevante,prob_irrelevante = 1,1\n",
    "        for palavra in cleanup(tweet).split():\n",
    "            prob_relevante *= (p_relevantes.get(palavra,0)+1)/(len(p_possiveis) + sum(p_relevantes.values()))\n",
    "            prob_irrelevante *= (p_irrelevantes.get(palavra,0)+1)/(len(p_possiveis) + sum(p_irrelevantes.values()))\n",
    "        classificacoes.append('Não relevante' if prob_relevante < prob_irrelevante else 'Relevante')\n",
    "    return classificacoes"
   ]
  },
  {
   "cell_type": "code",
   "execution_count": 3,
   "metadata": {
    "scrolled": true
   },
   "outputs": [
    {
     "ename": "NameError",
     "evalue": "name 'test' is not defined",
     "output_type": "error",
     "traceback": [
      "\u001b[1;31m---------------------------------------------------------------------------\u001b[0m",
      "\u001b[1;31mNameError\u001b[0m                                 Traceback (most recent call last)",
      "\u001b[1;32m<ipython-input-3-e04677fa44eb>\u001b[0m in \u001b[0;36m<module>\u001b[1;34m\u001b[0m\n\u001b[0;32m      1\u001b[0m \u001b[1;31m#Adiciona coluna no Dataframe test\u001b[0m\u001b[1;33m\u001b[0m\u001b[1;33m\u001b[0m\u001b[1;33m\u001b[0m\u001b[0m\n\u001b[1;32m----> 2\u001b[1;33m \u001b[0mtest\u001b[0m\u001b[1;33m[\u001b[0m\u001b[1;34m'Classificação'\u001b[0m\u001b[1;33m]\u001b[0m \u001b[1;33m=\u001b[0m \u001b[0mclassificador_de_tweets\u001b[0m\u001b[1;33m(\u001b[0m\u001b[0mtest\u001b[0m\u001b[1;33m,\u001b[0m\u001b[0mp_count\u001b[0m\u001b[1;33m)\u001b[0m\u001b[1;33m\u001b[0m\u001b[1;33m\u001b[0m\u001b[0m\n\u001b[0m\u001b[0;32m      3\u001b[0m \u001b[0mtest\u001b[0m\u001b[1;33m.\u001b[0m\u001b[0mhead\u001b[0m\u001b[1;33m(\u001b[0m\u001b[1;36m10\u001b[0m\u001b[1;33m)\u001b[0m\u001b[1;33m\u001b[0m\u001b[1;33m\u001b[0m\u001b[0m\n",
      "\u001b[1;31mNameError\u001b[0m: name 'test' is not defined"
     ]
    }
   ],
   "source": [
    "#Adiciona coluna no Dataframe test\n",
    "test['Classificação'] = classificador_de_tweets(test,p_count)\n",
    "test.head(10)"
   ]
  },
  {
   "cell_type": "markdown",
   "metadata": {},
   "source": [
    "Tabelas para ajudar a visualizar resultados."
   ]
  },
  {
   "cell_type": "code",
   "execution_count": 4,
   "metadata": {},
   "outputs": [
    {
     "ename": "NameError",
     "evalue": "name 'test' is not defined",
     "output_type": "error",
     "traceback": [
      "\u001b[1;31m---------------------------------------------------------------------------\u001b[0m",
      "\u001b[1;31mNameError\u001b[0m                                 Traceback (most recent call last)",
      "\u001b[1;32m<ipython-input-4-2b88f5de7574>\u001b[0m in \u001b[0;36m<module>\u001b[1;34m\u001b[0m\n\u001b[1;32m----> 1\u001b[1;33m \u001b[0mpd\u001b[0m\u001b[1;33m.\u001b[0m\u001b[0mcrosstab\u001b[0m\u001b[1;33m(\u001b[0m\u001b[0mtest\u001b[0m\u001b[1;33m.\u001b[0m\u001b[0mRelevância\u001b[0m\u001b[1;33m,\u001b[0m\u001b[0mtest\u001b[0m\u001b[1;33m.\u001b[0m\u001b[0mClassificação\u001b[0m\u001b[1;33m)\u001b[0m\u001b[1;33m\u001b[0m\u001b[1;33m\u001b[0m\u001b[0m\n\u001b[0m",
      "\u001b[1;31mNameError\u001b[0m: name 'test' is not defined"
     ]
    }
   ],
   "source": [
    "pd.crosstab(test.Relevância,test.Classificação)"
   ]
  },
  {
   "cell_type": "code",
   "execution_count": 5,
   "metadata": {},
   "outputs": [
    {
     "ename": "NameError",
     "evalue": "name 'test' is not defined",
     "output_type": "error",
     "traceback": [
      "\u001b[1;31m---------------------------------------------------------------------------\u001b[0m",
      "\u001b[1;31mNameError\u001b[0m                                 Traceback (most recent call last)",
      "\u001b[1;32m<ipython-input-5-87d597d89c95>\u001b[0m in \u001b[0;36m<module>\u001b[1;34m\u001b[0m\n\u001b[1;32m----> 1\u001b[1;33m \u001b[1;33m(\u001b[0m\u001b[0mpd\u001b[0m\u001b[1;33m.\u001b[0m\u001b[0mcrosstab\u001b[0m\u001b[1;33m(\u001b[0m\u001b[0mtest\u001b[0m\u001b[1;33m.\u001b[0m\u001b[0mRelevância\u001b[0m\u001b[1;33m,\u001b[0m\u001b[0mtest\u001b[0m\u001b[1;33m.\u001b[0m\u001b[0mClassificação\u001b[0m\u001b[1;33m,\u001b[0m\u001b[0mnormalize\u001b[0m \u001b[1;33m=\u001b[0m \u001b[1;34m'index'\u001b[0m\u001b[1;33m)\u001b[0m\u001b[1;33m*\u001b[0m\u001b[1;36m100\u001b[0m\u001b[1;33m)\u001b[0m\u001b[1;33m.\u001b[0m\u001b[0mround\u001b[0m\u001b[1;33m(\u001b[0m\u001b[0mdecimals\u001b[0m\u001b[1;33m=\u001b[0m\u001b[1;36m3\u001b[0m\u001b[1;33m)\u001b[0m\u001b[1;33m\u001b[0m\u001b[1;33m\u001b[0m\u001b[0m\n\u001b[0m",
      "\u001b[1;31mNameError\u001b[0m: name 'test' is not defined"
     ]
    }
   ],
   "source": [
    "(pd.crosstab(test.Relevância,test.Classificação,normalize = 'index')*100).round(decimals=3)"
   ]
  },
  {
   "cell_type": "code",
   "execution_count": 6,
   "metadata": {},
   "outputs": [
    {
     "ename": "NameError",
     "evalue": "name 'test' is not defined",
     "output_type": "error",
     "traceback": [
      "\u001b[1;31m---------------------------------------------------------------------------\u001b[0m",
      "\u001b[1;31mNameError\u001b[0m                                 Traceback (most recent call last)",
      "\u001b[1;32m<ipython-input-6-8eb4fc412acd>\u001b[0m in \u001b[0;36m<module>\u001b[1;34m\u001b[0m\n\u001b[1;32m----> 1\u001b[1;33m \u001b[1;33m(\u001b[0m\u001b[0mpd\u001b[0m\u001b[1;33m.\u001b[0m\u001b[0mcrosstab\u001b[0m\u001b[1;33m(\u001b[0m\u001b[0mtest\u001b[0m\u001b[1;33m.\u001b[0m\u001b[0mRelevância\u001b[0m\u001b[1;33m,\u001b[0m\u001b[0mtest\u001b[0m\u001b[1;33m.\u001b[0m\u001b[0mClassificação\u001b[0m\u001b[1;33m,\u001b[0m\u001b[0mnormalize\u001b[0m \u001b[1;33m=\u001b[0m \u001b[1;32mTrue\u001b[0m\u001b[1;33m)\u001b[0m\u001b[1;33m*\u001b[0m\u001b[1;36m100\u001b[0m\u001b[1;33m)\u001b[0m\u001b[1;33m.\u001b[0m\u001b[0mround\u001b[0m\u001b[1;33m(\u001b[0m\u001b[0mdecimals\u001b[0m\u001b[1;33m=\u001b[0m\u001b[1;36m3\u001b[0m\u001b[1;33m)\u001b[0m\u001b[1;33m\u001b[0m\u001b[1;33m\u001b[0m\u001b[0m\n\u001b[0m",
      "\u001b[1;31mNameError\u001b[0m: name 'test' is not defined"
     ]
    }
   ],
   "source": [
    "(pd.crosstab(test.Relevância,test.Classificação,normalize = True)*100).round(decimals=3)"
   ]
  },
  {
   "cell_type": "code",
   "execution_count": 7,
   "metadata": {},
   "outputs": [
    {
     "name": "stdout",
     "output_type": "stream",
     "text": [
      "Tivemos 65 tweets verdadeiros positivos, com 76,471% dos tweets que foram classificados como relevantes\n",
      "Tivemos 20 tweets falsos positivos, com 23,529% dos tweets que foram classificados como relevantes\n",
      "Tivemos 70 tweets verdadeiros negativos, com 60,87% dos tweets que foram classificados como irelevantes\n",
      "Tivemos 45 tweets falsos negativos, com 39,13% dos tweets que foram classificados como irrelevantes\n",
      "A porcentagem de erro do classificador foi de 32,5%.\n"
     ]
    }
   ],
   "source": [
    "print('Tivemos 65 tweets verdadeiros positivos, com 76,471% dos tweets que foram classificados como relevantes')\n",
    "print('Tivemos 20 tweets falsos positivos, com 23,529% dos tweets que foram classificados como relevantes')\n",
    "print('Tivemos 70 tweets verdadeiros negativos, com 60,87% dos tweets que foram classificados como irelevantes')\n",
    "print('Tivemos 45 tweets falsos negativos, com 39,13% dos tweets que foram classificados como irrelevantes')\n",
    "print('A porcentagem de erro do classificador foi de 32,5%.')"
   ]
  },
  {
   "cell_type": "markdown",
   "metadata": {},
   "source": [
    "___\n",
    "### Concluindo"
   ]
  },
  {
   "cell_type": "markdown",
   "metadata": {},
   "source": [
    "Ao ver os resultados do projeto, concluimos que nosso objetivo foi atingido. Isso porque, o classificador acertou a relevância em 67,5% dos tweets, porém o classificador considerou 32,5% o contrário da nossa classificação. Isso pode ter se dado por conta de a nossa classificação não ter sido rigorosa o suficiente ao classificar o que era relevante e o que era irrelevante. Algo que poderia ser feito para aumentar ainda mais a perfomance do classificador seria ser mais criterioso na hora de classificar os tweets como relevantes ou irrelevantes.\n",
    "\n",
    "As mensagens que contém sarcasmo não são classificadas pelo classificador como tais, pois o significado intendido pelo usuário não é compreendido. Isso acontece por conta do classificador apenas verificar se ele seria releveante ou não, e não analisar os significados reais da palavra. Mensagens com dupla negação tambem não são classificadas como tal pelo classificador, pois ele analisa a palavra individualmente e não a possição que ocupa no texto. Um plano de expansão incluiria um aumento significativo das palavras que seriam recolhida, para que exista a possibilidade de classificar os tweets de maneira mais precisa. Além disso, novas técnicas seriam pesquisadas e implementadas para tentar distinguir os tweets reais e os que tem dupla negação e sarcasmo.\n",
    "\n",
    "O nosso projeto deveria ser financiado pois, com mais tempo de trabalho, poderíamos aperfeiçoar o nosso classificador para entender mensagens de sarcasmo, dupla negação, etc. Além disso, criaríamos mais categorias (como por exemplo, a opção \"neutro\") para tornar o classificador mais preciso. Em mais tempo de trabalho, seria possível usar esse classificador em tempo real!\n",
    "\n",
    "Não seria possível usar alimentar minha base de Treinamento automaticamente usando o próprio classificador, aplicado a novos tweets, pois os tweets para treinamento servem para ensinar o computador como ler as mensagens relevantes e irrelevantes. \n",
    "\n",
    "O classificador de Naive Bayes poderia ser usado para vários outros casos, como por exemplo recomendar um filme ou uma música para um usuário, dependendo do que ele vai selecionando. Assim, o classificador calcularia o filme ou música com a maior probabilidade de ser aprovada, levando em conta questões como gênero, duração, atores envolvidos, estilo da música, cantor/banda, etc."
   ]
  },
  {
   "cell_type": "markdown",
   "metadata": {},
   "source": [
    "___\n",
    "## Aperfeiçoamento:\n",
    "\n",
    "Os trabalhos vão evoluir em conceito dependendo da quantidade de itens avançados:\n",
    "\n",
    "* Limpar: \\n, :, \", ', (, ), etc SEM remover emojis\n",
    "* Corrigir separação de espaços entre palavras e emojis ou entre emojis e emojis\n",
    "* Propor outras limpezas e transformações que não afetem a qualidade da informação ou classificação\n",
    "* Criar categorias intermediárias de relevância baseadas na probabilidade: ex.: muito relevante, relevante, neutro, irrelevante, muito irrelevante (3 categorias: C, mais categorias conta para B)\n",
    "* Explicar por que não posso usar o próprio classificador para gerar mais amostras de treinamento\n",
    "* Propor diferentes cenários para Naïve Bayes fora do contexto do projeto\n",
    "* Sugerir e explicar melhorias reais com indicações concretas de como implementar (indicar como fazer e indicar material de pesquisa)\n",
    "* Montar um dashboard que realiza análise de sentimento e visualiza estes dados"
   ]
  },
  {
   "cell_type": "markdown",
   "metadata": {},
   "source": [
    "___\n",
    "## Referências"
   ]
  },
  {
   "cell_type": "markdown",
   "metadata": {},
   "source": [
    "[Naive Bayes and Text Classification](https://arxiv.org/pdf/1410.5329.pdf)  **Mais completo**\n",
    "\n",
    "[A practical explanation of a Naive Bayes Classifier](https://monkeylearn.com/blog/practical-explanation-naive-bayes-classifier/) **Mais simples**"
   ]
  },
  {
   "cell_type": "code",
   "execution_count": null,
   "metadata": {},
   "outputs": [],
   "source": []
  }
 ],
 "metadata": {
  "kernelspec": {
   "display_name": "Python 3",
   "language": "python",
   "name": "python3"
  },
  "language_info": {
   "codemirror_mode": {
    "name": "ipython",
    "version": 3
   },
   "file_extension": ".py",
   "mimetype": "text/x-python",
   "name": "python",
   "nbconvert_exporter": "python",
   "pygments_lexer": "ipython3",
   "version": "3.7.4"
  }
 },
 "nbformat": 4,
 "nbformat_minor": 4
}
