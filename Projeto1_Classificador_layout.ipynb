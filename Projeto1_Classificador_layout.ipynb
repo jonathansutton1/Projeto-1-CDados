{
 "cells": [
  {
   "cell_type": "markdown",
   "metadata": {},
   "source": [
    "# Projeto 1 - Ciência dos Dados"
   ]
  },
  {
   "cell_type": "markdown",
   "metadata": {},
   "source": [
    "Nome: Cesar Ades\n",
    "\n",
    "Nome: Jonathan Sutton"
   ]
  },
  {
   "cell_type": "markdown",
   "metadata": {},
   "source": [
    "**Atenção:** Serão permitidos grupos de três pessoas, mas com uma rubrica mais exigente. Grupos deste tamanho precisarão fazer um questionário de avaliação de trabalho em equipe"
   ]
  },
  {
   "cell_type": "markdown",
   "metadata": {},
   "source": [
    "___\n",
    "Carregando algumas bibliotecas:"
   ]
  },
  {
   "cell_type": "code",
   "execution_count": 35,
   "metadata": {},
   "outputs": [],
   "source": [
    "%matplotlib inline\n",
    "import pandas as pd\n",
    "import matplotlib.pyplot as plt\n",
    "import numpy as np\n",
    "import os\n",
    "import re\n",
    "from emoji import UNICODE_EMOJI"
   ]
  },
  {
   "cell_type": "markdown",
   "metadata": {},
   "source": [
    "**Em `filename`, coloque o nome do seu arquivo de dados!**"
   ]
  },
  {
   "cell_type": "code",
   "execution_count": 36,
   "metadata": {
    "scrolled": false
   },
   "outputs": [
    {
     "name": "stdout",
     "output_type": "stream",
     "text": [
      "Encontrei o arquivo ps4.xlsx, tudo certo para prosseguir com o trabalho!\n"
     ]
    }
   ],
   "source": [
    "import os\n",
    "\n",
    "filename = 'ps4.xlsx'\n",
    "if filename in os.listdir():\n",
    "    print(f'Encontrei o arquivo {filename}, tudo certo para prosseguir com o trabalho!')\n",
    "else:\n",
    "    print(f'Não encontrei o arquivo {filename} aqui no diretório {os.getcwd()}, será que você não baixou o arquivo?')"
   ]
  },
  {
   "cell_type": "markdown",
   "metadata": {},
   "source": [
    "Carregando a base de dados com os tweets classificados como relevantes e não relevantes:"
   ]
  },
  {
   "cell_type": "code",
   "execution_count": 37,
   "metadata": {},
   "outputs": [
    {
     "data": {
      "text/html": [
       "<div>\n",
       "<style scoped>\n",
       "    .dataframe tbody tr th:only-of-type {\n",
       "        vertical-align: middle;\n",
       "    }\n",
       "\n",
       "    .dataframe tbody tr th {\n",
       "        vertical-align: top;\n",
       "    }\n",
       "\n",
       "    .dataframe thead th {\n",
       "        text-align: right;\n",
       "    }\n",
       "</style>\n",
       "<table border=\"1\" class=\"dataframe\">\n",
       "  <thead>\n",
       "    <tr style=\"text-align: right;\">\n",
       "      <th></th>\n",
       "      <th>Treinamento</th>\n",
       "      <th>Relevância</th>\n",
       "    </tr>\n",
       "  </thead>\n",
       "  <tbody>\n",
       "    <tr>\n",
       "      <td>0</td>\n",
       "      <td>só queria o meu ps4 😭</td>\n",
       "      <td>0.0</td>\n",
       "    </tr>\n",
       "    <tr>\n",
       "      <td>1</td>\n",
       "      <td>eu que comprei no pc e ps4: 🤡🤡🤡 https://t.co/f...</td>\n",
       "      <td>0.0</td>\n",
       "    </tr>\n",
       "    <tr>\n",
       "      <td>2</td>\n",
       "      <td>@biceta_rj e eu que só peguei o ps4 em 2019???...</td>\n",
       "      <td>1.0</td>\n",
       "    </tr>\n",
       "    <tr>\n",
       "      <td>3</td>\n",
       "      <td>@its_iucas minha herança: desgosto e um ps4</td>\n",
       "      <td>0.0</td>\n",
       "    </tr>\n",
       "    <tr>\n",
       "      <td>4</td>\n",
       "      <td>@duduxth1 fall guys eu tenho de graça no ps4</td>\n",
       "      <td>1.0</td>\n",
       "    </tr>\n",
       "  </tbody>\n",
       "</table>\n",
       "</div>"
      ],
      "text/plain": [
       "                                         Treinamento  Relevância\n",
       "0                              só queria o meu ps4 😭         0.0\n",
       "1  eu que comprei no pc e ps4: 🤡🤡🤡 https://t.co/f...         0.0\n",
       "2  @biceta_rj e eu que só peguei o ps4 em 2019???...         1.0\n",
       "3        @its_iucas minha herança: desgosto e um ps4         0.0\n",
       "4       @duduxth1 fall guys eu tenho de graça no ps4         1.0"
      ]
     },
     "execution_count": 37,
     "metadata": {},
     "output_type": "execute_result"
    }
   ],
   "source": [
    "train = pd.read_excel(filename)\n",
    "train.head(5)"
   ]
  },
  {
   "cell_type": "code",
   "execution_count": 38,
   "metadata": {},
   "outputs": [
    {
     "data": {
      "text/html": [
       "<div>\n",
       "<style scoped>\n",
       "    .dataframe tbody tr th:only-of-type {\n",
       "        vertical-align: middle;\n",
       "    }\n",
       "\n",
       "    .dataframe tbody tr th {\n",
       "        vertical-align: top;\n",
       "    }\n",
       "\n",
       "    .dataframe thead th {\n",
       "        text-align: right;\n",
       "    }\n",
       "</style>\n",
       "<table border=\"1\" class=\"dataframe\">\n",
       "  <thead>\n",
       "    <tr style=\"text-align: right;\">\n",
       "      <th></th>\n",
       "      <th>Teste</th>\n",
       "      <th>Relevância</th>\n",
       "    </tr>\n",
       "  </thead>\n",
       "  <tbody>\n",
       "    <tr>\n",
       "      <td>0</td>\n",
       "      <td>@lucas_hunger pq não tem pokémon e zelda pro ps4</td>\n",
       "      <td>0</td>\n",
       "    </tr>\n",
       "    <tr>\n",
       "      <td>1</td>\n",
       "      <td>se isso influenciasse no preço do ps4/ps5 eu a...</td>\n",
       "      <td>1</td>\n",
       "    </tr>\n",
       "    <tr>\n",
       "      <td>2</td>\n",
       "      <td>quem ai quer me dar um ps4 ?</td>\n",
       "      <td>0</td>\n",
       "    </tr>\n",
       "    <tr>\n",
       "      <td>3</td>\n",
       "      <td>@fabricadecobres n sei pq eu n tenho ps4. ou u...</td>\n",
       "      <td>0</td>\n",
       "    </tr>\n",
       "    <tr>\n",
       "      <td>4</td>\n",
       "      <td>@dudalbessa falando em tv\\neu queria comprar u...</td>\n",
       "      <td>1</td>\n",
       "    </tr>\n",
       "  </tbody>\n",
       "</table>\n",
       "</div>"
      ],
      "text/plain": [
       "                                               Teste  Relevância\n",
       "0   @lucas_hunger pq não tem pokémon e zelda pro ps4           0\n",
       "1  se isso influenciasse no preço do ps4/ps5 eu a...           1\n",
       "2                       quem ai quer me dar um ps4 ?           0\n",
       "3  @fabricadecobres n sei pq eu n tenho ps4. ou u...           0\n",
       "4  @dudalbessa falando em tv\\neu queria comprar u...           1"
      ]
     },
     "execution_count": 38,
     "metadata": {},
     "output_type": "execute_result"
    }
   ],
   "source": [
    "test = pd.read_excel(filename, sheet_name = 'Teste')\n",
    "test.head(5)"
   ]
  },
  {
   "cell_type": "markdown",
   "metadata": {},
   "source": [
    "___\n",
    "## Classificador automático de sentimento\n"
   ]
  },
  {
   "cell_type": "markdown",
   "metadata": {},
   "source": [
    "Faça aqui uma descrição do seu produto e o que considerou como relevante ou não relevante na classificação dos tweets.\n",
    "\n",
    "\n",
    "Nosso produto é o Play Station 4 que é um console para videogames fabricado pela Sony, tem diversos jogos e utiliza controles bluetooth.Consideramos tweets relevantes aqueles que envolviam informações sobre o preço, local de fabricação, performance do produto, jogos que podem ser usados, lançamentos de jogos e falhas que ocorrem com o console e e os produtos relacionados a ele."
   ]
  },
  {
   "cell_type": "markdown",
   "metadata": {},
   "source": [
    "___\n",
    "### Montando um Classificador Naive-Bayes\n",
    "\n",
    "Considerando apenas as mensagens da planilha Treinamento, ensine  seu classificador."
   ]
  },
  {
   "cell_type": "code",
   "execution_count": 39,
   "metadata": {},
   "outputs": [],
   "source": [
    "#Definindo as variáveis como categóricas\n",
    "train['Relevância'] = train['Relevância'].astype('category')\n",
    "test['Relevância'] = test['Relevância'].astype('category')\n",
    "train['Relevância'].cat.categories = ['Não relevante','Relevante']  \n",
    "test['Relevância'].cat.categories = ['Não relevante','Relevante']"
   ]
  },
  {
   "cell_type": "code",
   "execution_count": 40,
   "metadata": {},
   "outputs": [
    {
     "data": {
      "text/html": [
       "<div>\n",
       "<style scoped>\n",
       "    .dataframe tbody tr th:only-of-type {\n",
       "        vertical-align: middle;\n",
       "    }\n",
       "\n",
       "    .dataframe tbody tr th {\n",
       "        vertical-align: top;\n",
       "    }\n",
       "\n",
       "    .dataframe thead th {\n",
       "        text-align: right;\n",
       "    }\n",
       "</style>\n",
       "<table border=\"1\" class=\"dataframe\">\n",
       "  <thead>\n",
       "    <tr style=\"text-align: right;\">\n",
       "      <th></th>\n",
       "      <th>Teste</th>\n",
       "      <th>Relevância</th>\n",
       "    </tr>\n",
       "  </thead>\n",
       "  <tbody>\n",
       "    <tr>\n",
       "      <td>0</td>\n",
       "      <td>@lucas_hunger pq não tem pokémon e zelda pro ps4</td>\n",
       "      <td>Não relevante</td>\n",
       "    </tr>\n",
       "    <tr>\n",
       "      <td>1</td>\n",
       "      <td>se isso influenciasse no preço do ps4/ps5 eu a...</td>\n",
       "      <td>Relevante</td>\n",
       "    </tr>\n",
       "    <tr>\n",
       "      <td>2</td>\n",
       "      <td>quem ai quer me dar um ps4 ?</td>\n",
       "      <td>Não relevante</td>\n",
       "    </tr>\n",
       "    <tr>\n",
       "      <td>3</td>\n",
       "      <td>@fabricadecobres n sei pq eu n tenho ps4. ou u...</td>\n",
       "      <td>Não relevante</td>\n",
       "    </tr>\n",
       "    <tr>\n",
       "      <td>4</td>\n",
       "      <td>@dudalbessa falando em tv\\neu queria comprar u...</td>\n",
       "      <td>Relevante</td>\n",
       "    </tr>\n",
       "  </tbody>\n",
       "</table>\n",
       "</div>"
      ],
      "text/plain": [
       "                                               Teste     Relevância\n",
       "0   @lucas_hunger pq não tem pokémon e zelda pro ps4  Não relevante\n",
       "1  se isso influenciasse no preço do ps4/ps5 eu a...      Relevante\n",
       "2                       quem ai quer me dar um ps4 ?  Não relevante\n",
       "3  @fabricadecobres n sei pq eu n tenho ps4. ou u...  Não relevante\n",
       "4  @dudalbessa falando em tv\\neu queria comprar u...      Relevante"
      ]
     },
     "execution_count": 40,
     "metadata": {},
     "output_type": "execute_result"
    }
   ],
   "source": [
    "test.head(5)"
   ]
  },
  {
   "cell_type": "code",
   "execution_count": 41,
   "metadata": {},
   "outputs": [],
   "source": [
    "def separate_emoji(text): #separa emojis dos outros caracteres\n",
    "    return ''.join(' ' + char if char in UNICODE_EMOJI else char for char in text).strip()"
   ]
  },
  {
   "cell_type": "code",
   "execution_count": 42,
   "metadata": {},
   "outputs": [],
   "source": [
    "def cleanup(text):\n",
    "    \"\"\"\n",
    "        Função de limpeza muito simples que troca alguns sinais básicos por espaços\n",
    "    \"\"\"\n",
    "    #import string\n",
    "    punctuation = '[!-.:?;/@]' # Note que os sinais [] são delimitadores de um conjunto.\n",
    "    pattern = re.compile(punctuation)\n",
    "    text_subbed = re.sub(pattern, '', separate_emoji(text))\n",
    "    return text_subbed    "
   ]
  },
  {
   "cell_type": "markdown",
   "metadata": {},
   "source": [
    "Na célula abaixo, fizemos o percentual de tweets relevantes e irrelevantes na parte de treinamentos."
   ]
  },
  {
   "cell_type": "code",
   "execution_count": 89,
   "metadata": {},
   "outputs": [],
   "source": [
    "def treinamento(data):\n",
    "    p_relevantes = dict()\n",
    "    p_irrelevantes = dict()\n",
    "    p_possiveis = set()\n",
    "    for index,row in data.iterrows():\n",
    "        tweet = row.Treinamento\n",
    "        for palavra in cleanup(tweet).split():\n",
    "            p_possiveis.add(palavra)\n",
    "            if row.Relevância == 'Relevante':\n",
    "                p_relevantes[palavra] = p_relevantes.get(palavra,0)+1\n",
    "            else:\n",
    "                p_irrelevantes[palavra] = p_irrelevantes.get(palavra,0)+1\n",
    "    return (p_possiveis,p_relevantes,p_irrelevantes)\n",
    "#p_possiveis,p_relevantes,p_irrelevantes = treinamento(train)"
   ]
  },
  {
   "cell_type": "code",
   "execution_count": 90,
   "metadata": {},
   "outputs": [],
   "source": [
    "p_count = treinamento(train)"
   ]
  },
  {
   "cell_type": "code",
   "execution_count": 91,
   "metadata": {},
   "outputs": [
    {
     "name": "stdout",
     "output_type": "stream",
     "text": [
      "Tweets relevantes em Treinamento: 165\n",
      "Tweets irrelevantes em Treinamento: 133\n",
      "Tweets totais em Treinamento: 298\n",
      "Porcentagem de Tweets relevantes em Treinamento: 55.37%\n",
      "Porcentagem de Tweets irrelevantes em Treinamento: 44.63%\n",
      "Tweets relevantes em Teste: 115\n",
      "Tweets irrelevantes em Teste: 85\n",
      "Tweets totais em Teste: 200\n",
      "Porcentagem de Tweets relevantes em Teste: 57.50%\n",
      "Porcentagem de Tweets irrelevantes em Teste: 42.50%\n"
     ]
    }
   ],
   "source": [
    "resultados_treino = train.Relevância.value_counts(True)\n",
    "relevantes_treino = resultados_treino[0]\n",
    "irrelevantes_treino = resultados_treino[1]\n",
    "resultados_brutos_treino = train.Relevância.value_counts()\n",
    "relevantes_brutos_treino = resultados_brutos_treino[0]\n",
    "irrelevantes_brutos_treino = resultados_brutos_treino[1]\n",
    "tweets_totais_treino = relevantes_brutos_treino + irrelevantes_brutos_treino\n",
    "resultados_teste = test.Relevância.value_counts(True)\n",
    "relevantes_teste = resultados_teste[0]\n",
    "irrelevantes_teste = resultados_teste[1]\n",
    "resultados_brutos_teste = test.Relevância.value_counts()\n",
    "relevantes_brutos_teste = resultados_brutos_teste[0]\n",
    "irrelevantes_brutos_teste = resultados_brutos_teste[1]\n",
    "tweets_totais_teste = relevantes_brutos_teste + irrelevantes_brutos_teste\n",
    "\n",
    "print('Tweets relevantes em Treinamento: {0}'.format(relevantes_brutos_treino))\n",
    "print('Tweets irrelevantes em Treinamento: {0}'.format(irrelevantes_brutos_treino))\n",
    "print('Tweets totais em Treinamento: {0}'.format(tweets_totais_treino))\n",
    "print('Porcentagem de Tweets relevantes em Treinamento: {0:.2f}%'.format(relevantes_treino*100))\n",
    "print('Porcentagem de Tweets irrelevantes em Treinamento: {0:.2f}%'.format(irrelevantes_treino*100))\n",
    "print('Tweets relevantes em Teste: {0}'.format(relevantes_brutos_teste))\n",
    "print('Tweets irrelevantes em Teste: {0}'.format(irrelevantes_brutos_teste))\n",
    "print('Tweets totais em Teste: {0}'.format(tweets_totais_teste))\n",
    "print('Porcentagem de Tweets relevantes em Teste: {0:.2f}%'.format(relevantes_teste*100))\n",
    "print('Porcentagem de Tweets irrelevantes em Teste: {0:.2f}%'.format(irrelevantes_teste*100))"
   ]
  },
  {
   "cell_type": "code",
   "execution_count": 97,
   "metadata": {},
   "outputs": [],
   "source": [
    "def classificador_de_tweets(data,words):\n",
    "    p_possiveis,p_relevantes,p_irrelevantes = words\n",
    "    classificacoes = []\n",
    "    for index,row in data.iterrows():\n",
    "        tweet = row.Teste\n",
    "        prob_relevante,prob_irrelevante = 1,1\n",
    "        for palavra in cleanup(tweet).split():\n",
    "            prob_relevante *= (p_relevantes.get(palavra,0)+1)/(len(p_possiveis) + sum(p_relevantes.values()))\n",
    "            prob_irrelevante *= (p_irrelevantes.get(palavra,0)+1)/(len(p_possiveis) + sum(p_irrelevantes.values()))\n",
    "        classificacoes.append('Não relevante' if prob_relevante < prob_irrelevante else 'Relevante')\n",
    "    return classificacoes"
   ]
  },
  {
   "cell_type": "code",
   "execution_count": 98,
   "metadata": {},
   "outputs": [
    {
     "data": {
      "text/html": [
       "<div>\n",
       "<style scoped>\n",
       "    .dataframe tbody tr th:only-of-type {\n",
       "        vertical-align: middle;\n",
       "    }\n",
       "\n",
       "    .dataframe tbody tr th {\n",
       "        vertical-align: top;\n",
       "    }\n",
       "\n",
       "    .dataframe thead th {\n",
       "        text-align: right;\n",
       "    }\n",
       "</style>\n",
       "<table border=\"1\" class=\"dataframe\">\n",
       "  <thead>\n",
       "    <tr style=\"text-align: right;\">\n",
       "      <th></th>\n",
       "      <th>Teste</th>\n",
       "      <th>Relevância</th>\n",
       "      <th>Classificação</th>\n",
       "    </tr>\n",
       "  </thead>\n",
       "  <tbody>\n",
       "    <tr>\n",
       "      <td>0</td>\n",
       "      <td>@lucas_hunger pq não tem pokémon e zelda pro ps4</td>\n",
       "      <td>Não relevante</td>\n",
       "      <td>Relevante</td>\n",
       "    </tr>\n",
       "    <tr>\n",
       "      <td>1</td>\n",
       "      <td>se isso influenciasse no preço do ps4/ps5 eu a...</td>\n",
       "      <td>Relevante</td>\n",
       "      <td>Relevante</td>\n",
       "    </tr>\n",
       "    <tr>\n",
       "      <td>2</td>\n",
       "      <td>quem ai quer me dar um ps4 ?</td>\n",
       "      <td>Não relevante</td>\n",
       "      <td>Não relevante</td>\n",
       "    </tr>\n",
       "    <tr>\n",
       "      <td>3</td>\n",
       "      <td>@fabricadecobres n sei pq eu n tenho ps4. ou u...</td>\n",
       "      <td>Não relevante</td>\n",
       "      <td>Não relevante</td>\n",
       "    </tr>\n",
       "    <tr>\n",
       "      <td>4</td>\n",
       "      <td>@dudalbessa falando em tv\\neu queria comprar u...</td>\n",
       "      <td>Relevante</td>\n",
       "      <td>Não relevante</td>\n",
       "    </tr>\n",
       "    <tr>\n",
       "      <td>5</td>\n",
       "      <td>@predatorium @robertadbrito tudo menos a bater...</td>\n",
       "      <td>Relevante</td>\n",
       "      <td>Relevante</td>\n",
       "    </tr>\n",
       "    <tr>\n",
       "      <td>6</td>\n",
       "      <td>@lucas_hunger aliás eu venderia o ps4 pra comp...</td>\n",
       "      <td>Relevante</td>\n",
       "      <td>Não relevante</td>\n",
       "    </tr>\n",
       "    <tr>\n",
       "      <td>7</td>\n",
       "      <td>@nctclia ps4 mano kkk</td>\n",
       "      <td>Não relevante</td>\n",
       "      <td>Não relevante</td>\n",
       "    </tr>\n",
       "    <tr>\n",
       "      <td>8</td>\n",
       "      <td>@xtheslime ok😔\\n\\n(esqueça seu ps4 que eu ia c...</td>\n",
       "      <td>Não relevante</td>\n",
       "      <td>Relevante</td>\n",
       "    </tr>\n",
       "    <tr>\n",
       "      <td>9</td>\n",
       "      <td>@robertadbrito ergonomia do de xbox é  infinit...</td>\n",
       "      <td>Relevante</td>\n",
       "      <td>Relevante</td>\n",
       "    </tr>\n",
       "  </tbody>\n",
       "</table>\n",
       "</div>"
      ],
      "text/plain": [
       "                                               Teste     Relevância  \\\n",
       "0   @lucas_hunger pq não tem pokémon e zelda pro ps4  Não relevante   \n",
       "1  se isso influenciasse no preço do ps4/ps5 eu a...      Relevante   \n",
       "2                       quem ai quer me dar um ps4 ?  Não relevante   \n",
       "3  @fabricadecobres n sei pq eu n tenho ps4. ou u...  Não relevante   \n",
       "4  @dudalbessa falando em tv\\neu queria comprar u...      Relevante   \n",
       "5  @predatorium @robertadbrito tudo menos a bater...      Relevante   \n",
       "6  @lucas_hunger aliás eu venderia o ps4 pra comp...      Relevante   \n",
       "7                              @nctclia ps4 mano kkk  Não relevante   \n",
       "8  @xtheslime ok😔\\n\\n(esqueça seu ps4 que eu ia c...  Não relevante   \n",
       "9  @robertadbrito ergonomia do de xbox é  infinit...      Relevante   \n",
       "\n",
       "   Classificação  \n",
       "0      Relevante  \n",
       "1      Relevante  \n",
       "2  Não relevante  \n",
       "3  Não relevante  \n",
       "4  Não relevante  \n",
       "5      Relevante  \n",
       "6  Não relevante  \n",
       "7  Não relevante  \n",
       "8      Relevante  \n",
       "9      Relevante  "
      ]
     },
     "execution_count": 98,
     "metadata": {},
     "output_type": "execute_result"
    }
   ],
   "source": [
    "test['Classificação'] = classificador_de_tweets(test,p_count)\n",
    "test.head(10)"
   ]
  },
  {
   "cell_type": "code",
   "execution_count": 99,
   "metadata": {},
   "outputs": [
    {
     "data": {
      "text/html": [
       "<div>\n",
       "<style scoped>\n",
       "    .dataframe tbody tr th:only-of-type {\n",
       "        vertical-align: middle;\n",
       "    }\n",
       "\n",
       "    .dataframe tbody tr th {\n",
       "        vertical-align: top;\n",
       "    }\n",
       "\n",
       "    .dataframe thead th {\n",
       "        text-align: right;\n",
       "    }\n",
       "</style>\n",
       "<table border=\"1\" class=\"dataframe\">\n",
       "  <thead>\n",
       "    <tr style=\"text-align: right;\">\n",
       "      <th>Classificação</th>\n",
       "      <th>Não relevante</th>\n",
       "      <th>Relevante</th>\n",
       "    </tr>\n",
       "    <tr>\n",
       "      <th>Relevância</th>\n",
       "      <th></th>\n",
       "      <th></th>\n",
       "    </tr>\n",
       "  </thead>\n",
       "  <tbody>\n",
       "    <tr>\n",
       "      <td>Não relevante</td>\n",
       "      <td>70</td>\n",
       "      <td>45</td>\n",
       "    </tr>\n",
       "    <tr>\n",
       "      <td>Relevante</td>\n",
       "      <td>20</td>\n",
       "      <td>65</td>\n",
       "    </tr>\n",
       "  </tbody>\n",
       "</table>\n",
       "</div>"
      ],
      "text/plain": [
       "Classificação  Não relevante  Relevante\n",
       "Relevância                             \n",
       "Não relevante             70         45\n",
       "Relevante                 20         65"
      ]
     },
     "execution_count": 99,
     "metadata": {},
     "output_type": "execute_result"
    }
   ],
   "source": [
    "pd.crosstab(test.Relevância,test.Classificação)"
   ]
  },
  {
   "cell_type": "code",
   "execution_count": 103,
   "metadata": {},
   "outputs": [
    {
     "data": {
      "text/html": [
       "<div>\n",
       "<style scoped>\n",
       "    .dataframe tbody tr th:only-of-type {\n",
       "        vertical-align: middle;\n",
       "    }\n",
       "\n",
       "    .dataframe tbody tr th {\n",
       "        vertical-align: top;\n",
       "    }\n",
       "\n",
       "    .dataframe thead th {\n",
       "        text-align: right;\n",
       "    }\n",
       "</style>\n",
       "<table border=\"1\" class=\"dataframe\">\n",
       "  <thead>\n",
       "    <tr style=\"text-align: right;\">\n",
       "      <th>Classificação</th>\n",
       "      <th>Não relevante</th>\n",
       "      <th>Relevante</th>\n",
       "    </tr>\n",
       "    <tr>\n",
       "      <th>Relevância</th>\n",
       "      <th></th>\n",
       "      <th></th>\n",
       "    </tr>\n",
       "  </thead>\n",
       "  <tbody>\n",
       "    <tr>\n",
       "      <td>Não relevante</td>\n",
       "      <td>60.870</td>\n",
       "      <td>39.130</td>\n",
       "    </tr>\n",
       "    <tr>\n",
       "      <td>Relevante</td>\n",
       "      <td>23.529</td>\n",
       "      <td>76.471</td>\n",
       "    </tr>\n",
       "  </tbody>\n",
       "</table>\n",
       "</div>"
      ],
      "text/plain": [
       "Classificação  Não relevante  Relevante\n",
       "Relevância                             \n",
       "Não relevante         60.870     39.130\n",
       "Relevante             23.529     76.471"
      ]
     },
     "execution_count": 103,
     "metadata": {},
     "output_type": "execute_result"
    }
   ],
   "source": [
    "(pd.crosstab(test.Relevância,test.Classificação,normalize = 'index')*100).round(decimals=3)"
   ]
  },
  {
   "cell_type": "code",
   "execution_count": 95,
   "metadata": {},
   "outputs": [
    {
     "name": "stderr",
     "output_type": "stream",
     "text": [
      "C:\\Users\\jonat\\AppData\\Local\\Continuum\\anaconda3\\lib\\site-packages\\ipykernel_launcher.py:5: SettingWithCopyWarning: \n",
      "A value is trying to be set on a copy of a slice from a DataFrame\n",
      "\n",
      "See the caveats in the documentation: http://pandas.pydata.org/pandas-docs/stable/user_guide/indexing.html#returning-a-view-versus-a-copy\n",
      "  \"\"\"\n"
     ]
    },
    {
     "data": {
      "text/html": [
       "<div>\n",
       "<style scoped>\n",
       "    .dataframe tbody tr th:only-of-type {\n",
       "        vertical-align: middle;\n",
       "    }\n",
       "\n",
       "    .dataframe tbody tr th {\n",
       "        vertical-align: top;\n",
       "    }\n",
       "\n",
       "    .dataframe thead th {\n",
       "        text-align: right;\n",
       "    }\n",
       "</style>\n",
       "<table border=\"1\" class=\"dataframe\">\n",
       "  <thead>\n",
       "    <tr style=\"text-align: right;\">\n",
       "      <th></th>\n",
       "      <th>Teste</th>\n",
       "      <th>Relevância</th>\n",
       "      <th>Classificação</th>\n",
       "    </tr>\n",
       "  </thead>\n",
       "  <tbody>\n",
       "    <tr>\n",
       "      <td>0</td>\n",
       "      <td>@lucas_hunger pq não tem pokémon e zelda pro ps4</td>\n",
       "      <td>Não relevante</td>\n",
       "      <td>Relevante</td>\n",
       "    </tr>\n",
       "    <tr>\n",
       "      <td>1</td>\n",
       "      <td>se isso influenciasse no preço do ps4/ps5 eu a...</td>\n",
       "      <td>Relevante</td>\n",
       "      <td>Relevante</td>\n",
       "    </tr>\n",
       "    <tr>\n",
       "      <td>2</td>\n",
       "      <td>quem ai quer me dar um ps4 ?</td>\n",
       "      <td>Não relevante</td>\n",
       "      <td>Não relevante</td>\n",
       "    </tr>\n",
       "    <tr>\n",
       "      <td>3</td>\n",
       "      <td>@fabricadecobres n sei pq eu n tenho ps4. ou u...</td>\n",
       "      <td>Não relevante</td>\n",
       "      <td>Não relevante</td>\n",
       "    </tr>\n",
       "    <tr>\n",
       "      <td>4</td>\n",
       "      <td>@dudalbessa falando em tv\\neu queria comprar u...</td>\n",
       "      <td>Relevante</td>\n",
       "      <td>Não relevante</td>\n",
       "    </tr>\n",
       "    <tr>\n",
       "      <td>5</td>\n",
       "      <td>@predatorium @robertadbrito tudo menos a bater...</td>\n",
       "      <td>Relevante</td>\n",
       "      <td>Relevante</td>\n",
       "    </tr>\n",
       "    <tr>\n",
       "      <td>6</td>\n",
       "      <td>@lucas_hunger aliás eu venderia o ps4 pra comp...</td>\n",
       "      <td>Relevante</td>\n",
       "      <td>Não relevante</td>\n",
       "    </tr>\n",
       "    <tr>\n",
       "      <td>7</td>\n",
       "      <td>@nctclia ps4 mano kkk</td>\n",
       "      <td>Não relevante</td>\n",
       "      <td>Não relevante</td>\n",
       "    </tr>\n",
       "    <tr>\n",
       "      <td>8</td>\n",
       "      <td>@xtheslime ok😔\\n\\n(esqueça seu ps4 que eu ia c...</td>\n",
       "      <td>Não relevante</td>\n",
       "      <td>Relevante</td>\n",
       "    </tr>\n",
       "    <tr>\n",
       "      <td>9</td>\n",
       "      <td>@robertadbrito ergonomia do de xbox é  infinit...</td>\n",
       "      <td>Relevante</td>\n",
       "      <td>Relevante</td>\n",
       "    </tr>\n",
       "  </tbody>\n",
       "</table>\n",
       "</div>"
      ],
      "text/plain": [
       "                                               Teste     Relevância  \\\n",
       "0   @lucas_hunger pq não tem pokémon e zelda pro ps4  Não relevante   \n",
       "1  se isso influenciasse no preço do ps4/ps5 eu a...      Relevante   \n",
       "2                       quem ai quer me dar um ps4 ?  Não relevante   \n",
       "3  @fabricadecobres n sei pq eu n tenho ps4. ou u...  Não relevante   \n",
       "4  @dudalbessa falando em tv\\neu queria comprar u...      Relevante   \n",
       "5  @predatorium @robertadbrito tudo menos a bater...      Relevante   \n",
       "6  @lucas_hunger aliás eu venderia o ps4 pra comp...      Relevante   \n",
       "7                              @nctclia ps4 mano kkk  Não relevante   \n",
       "8  @xtheslime ok😔\\n\\n(esqueça seu ps4 que eu ia c...  Não relevante   \n",
       "9  @robertadbrito ergonomia do de xbox é  infinit...      Relevante   \n",
       "\n",
       "   Classificação  \n",
       "0      Relevante  \n",
       "1      Relevante  \n",
       "2  Não relevante  \n",
       "3  Não relevante  \n",
       "4  Não relevante  \n",
       "5      Relevante  \n",
       "6  Não relevante  \n",
       "7  Não relevante  \n",
       "8      Relevante  \n",
       "9      Relevante  "
      ]
     },
     "execution_count": 95,
     "metadata": {},
     "output_type": "execute_result"
    }
   ],
   "source": [
    "lista_treino = []\n",
    "for tweet in train.Treinamento:\n",
    "    lista_treino.append(''.join(cleanup(tweet)))\n",
    "for tweet in range(len(train.Treinamento)):\n",
    "    train.Treinamento[tweet] = lista_treino[tweet]\n",
    "test.head(10)"
   ]
  },
  {
   "cell_type": "markdown",
   "metadata": {},
   "source": [
    "Pronto! Agora temos um dataframe sem os sinais de pontuação. Isso ajudará o nosso classificador a fazer a análise! A seguir iremos usar a função split para criar 2 listas com palavras: uma de irrelevantes e outra de relevantes!"
   ]
  },
  {
   "cell_type": "code",
   "execution_count": 37,
   "metadata": {},
   "outputs": [],
   "source": [
    "relevantes = []         #lista com palavras que aparecem em tweets relevantes\n",
    "irrelevantes = []       #lista com palavras que aparecem em tweets irrelevantes\n",
    "\n",
    "#A função extend é parecida com o append, mas põe cada elemento em uma linha. Isso ajuda na hora de montar o dataframe\n",
    "for tweet in range(len(train)):\n",
    "    if train.Relevância[tweet] == 'Relevante':\n",
    "        separador = train.Treinamento[tweet].split()\n",
    "        relevantes.extend(separador)\n",
    "    elif train.Relevância[tweet] == 'Não relevante':\n",
    "        separador = train.Treinamento[tweet].split()\n",
    "        irrelevantes.extend(separador)"
   ]
  },
  {
   "cell_type": "code",
   "execution_count": 38,
   "metadata": {},
   "outputs": [],
   "source": [
    "df_relevantes = pd.DataFrame(relevantes)      #DataFrame com palavras relevantes\n",
    "df_relevantes.columns = ['Número de vezes que aparece em tweets relevantes']\n",
    "counts_relevantes = df_relevantes['Número de vezes que aparece em tweets relevantes'].value_counts()\n",
    "\n",
    "df_irrelevantes = pd.DataFrame(irrelevantes)  #DataFrame com palavras irrelevantes\n",
    "df_irrelevantes.columns = ['Número de vezes que aparece em tweets irrelevantes']\n",
    "counts_irrelevantes = df_irrelevantes['Número de vezes que aparece em tweets irrelevantes'].value_counts()"
   ]
  },
  {
   "cell_type": "code",
   "execution_count": 39,
   "metadata": {},
   "outputs": [],
   "source": [
    "counts_relevantes_df = pd.DataFrame(counts_relevantes)     #DataFrame com frequências absolutas de palavras relevantes\n",
    "counts_irrelevantes_df = pd.DataFrame(counts_irrelevantes) #DataFrame com frequências absolutas de palavras irrelevantes"
   ]
  },
  {
   "cell_type": "code",
   "execution_count": 40,
   "metadata": {},
   "outputs": [],
   "source": [
    " #Junção dos 2 DataFrames, para facilitar a análise. O outer faz com que junte as 2 colunas, e não misture as linhas.\n",
    "counts_df = counts_relevantes_df.join(counts_irrelevantes_df, how=\"outer\")"
   ]
  },
  {
   "cell_type": "code",
   "execution_count": 41,
   "metadata": {},
   "outputs": [],
   "source": [
    "filtro1 = counts_df['Número de vezes que aparece em tweets relevantes'].isnull()\n",
    "counts_df.loc[filtro1,'Número de vezes que aparece em tweets relevantes'] = 0"
   ]
  },
  {
   "cell_type": "code",
   "execution_count": 42,
   "metadata": {},
   "outputs": [],
   "source": [
    "filtro2 = counts_df['Número de vezes que aparece em tweets irrelevantes'].isnull()\n",
    "counts_df.loc[filtro2,'Número de vezes que aparece em tweets irrelevantes'] = 0"
   ]
  },
  {
   "cell_type": "code",
   "execution_count": 43,
   "metadata": {},
   "outputs": [
    {
     "data": {
      "text/html": [
       "<div>\n",
       "<style scoped>\n",
       "    .dataframe tbody tr th:only-of-type {\n",
       "        vertical-align: middle;\n",
       "    }\n",
       "\n",
       "    .dataframe tbody tr th {\n",
       "        vertical-align: top;\n",
       "    }\n",
       "\n",
       "    .dataframe thead th {\n",
       "        text-align: right;\n",
       "    }\n",
       "</style>\n",
       "<table border=\"1\" class=\"dataframe\">\n",
       "  <thead>\n",
       "    <tr style=\"text-align: right;\">\n",
       "      <th></th>\n",
       "      <th>Número de vezes que aparece em tweets relevantes</th>\n",
       "      <th>Número de vezes que aparece em tweets irrelevantes</th>\n",
       "    </tr>\n",
       "  </thead>\n",
       "  <tbody>\n",
       "    <tr>\n",
       "      <td>o</td>\n",
       "      <td>142.0</td>\n",
       "      <td>71.0</td>\n",
       "    </tr>\n",
       "    <tr>\n",
       "      <td>ps4</td>\n",
       "      <td>139.0</td>\n",
       "      <td>161.0</td>\n",
       "    </tr>\n",
       "    <tr>\n",
       "      <td>de</td>\n",
       "      <td>104.0</td>\n",
       "      <td>65.0</td>\n",
       "    </tr>\n",
       "    <tr>\n",
       "      <td>que</td>\n",
       "      <td>98.0</td>\n",
       "      <td>34.0</td>\n",
       "    </tr>\n",
       "    <tr>\n",
       "      <td>e</td>\n",
       "      <td>84.0</td>\n",
       "      <td>70.0</td>\n",
       "    </tr>\n",
       "  </tbody>\n",
       "</table>\n",
       "</div>"
      ],
      "text/plain": [
       "     Número de vezes que aparece em tweets relevantes  \\\n",
       "o                                               142.0   \n",
       "ps4                                             139.0   \n",
       "de                                              104.0   \n",
       "que                                              98.0   \n",
       "e                                                84.0   \n",
       "\n",
       "     Número de vezes que aparece em tweets irrelevantes  \n",
       "o                                                 71.0   \n",
       "ps4                                              161.0   \n",
       "de                                                65.0   \n",
       "que                                               34.0   \n",
       "e                                                 70.0   "
      ]
     },
     "execution_count": 43,
     "metadata": {},
     "output_type": "execute_result"
    }
   ],
   "source": [
    "counts_df.sort_values('Número de vezes que aparece em tweets relevantes', ascending=False).head(5)"
   ]
  },
  {
   "cell_type": "code",
   "execution_count": 44,
   "metadata": {},
   "outputs": [
    {
     "data": {
      "text/html": [
       "<div>\n",
       "<style scoped>\n",
       "    .dataframe tbody tr th:only-of-type {\n",
       "        vertical-align: middle;\n",
       "    }\n",
       "\n",
       "    .dataframe tbody tr th {\n",
       "        vertical-align: top;\n",
       "    }\n",
       "\n",
       "    .dataframe thead th {\n",
       "        text-align: right;\n",
       "    }\n",
       "</style>\n",
       "<table border=\"1\" class=\"dataframe\">\n",
       "  <thead>\n",
       "    <tr style=\"text-align: right;\">\n",
       "      <th></th>\n",
       "      <th>Teste</th>\n",
       "      <th>Relevância</th>\n",
       "    </tr>\n",
       "  </thead>\n",
       "  <tbody>\n",
       "    <tr>\n",
       "      <td>0</td>\n",
       "      <td>@lucas_hunger pq não tem pokémon e zelda pro ps4</td>\n",
       "      <td>Não relevante</td>\n",
       "    </tr>\n",
       "    <tr>\n",
       "      <td>1</td>\n",
       "      <td>se isso influenciasse no preço do ps4/ps5 eu a...</td>\n",
       "      <td>Relevante</td>\n",
       "    </tr>\n",
       "    <tr>\n",
       "      <td>2</td>\n",
       "      <td>quem ai quer me dar um ps4 ?</td>\n",
       "      <td>Não relevante</td>\n",
       "    </tr>\n",
       "    <tr>\n",
       "      <td>3</td>\n",
       "      <td>@fabricadecobres n sei pq eu n tenho ps4. ou u...</td>\n",
       "      <td>Não relevante</td>\n",
       "    </tr>\n",
       "    <tr>\n",
       "      <td>4</td>\n",
       "      <td>@dudalbessa falando em tv\\neu queria comprar u...</td>\n",
       "      <td>Relevante</td>\n",
       "    </tr>\n",
       "    <tr>\n",
       "      <td>5</td>\n",
       "      <td>@predatorium @robertadbrito tudo menos a bater...</td>\n",
       "      <td>Relevante</td>\n",
       "    </tr>\n",
       "    <tr>\n",
       "      <td>6</td>\n",
       "      <td>@lucas_hunger aliás eu venderia o ps4 pra comp...</td>\n",
       "      <td>Relevante</td>\n",
       "    </tr>\n",
       "    <tr>\n",
       "      <td>7</td>\n",
       "      <td>@nctclia ps4 mano kkk</td>\n",
       "      <td>Não relevante</td>\n",
       "    </tr>\n",
       "    <tr>\n",
       "      <td>8</td>\n",
       "      <td>@xtheslime ok😔\\n\\n(esqueça seu ps4 que eu ia c...</td>\n",
       "      <td>Não relevante</td>\n",
       "    </tr>\n",
       "    <tr>\n",
       "      <td>9</td>\n",
       "      <td>@robertadbrito ergonomia do de xbox é  infinit...</td>\n",
       "      <td>Relevante</td>\n",
       "    </tr>\n",
       "  </tbody>\n",
       "</table>\n",
       "</div>"
      ],
      "text/plain": [
       "                                               Teste     Relevância\n",
       "0   @lucas_hunger pq não tem pokémon e zelda pro ps4  Não relevante\n",
       "1  se isso influenciasse no preço do ps4/ps5 eu a...      Relevante\n",
       "2                       quem ai quer me dar um ps4 ?  Não relevante\n",
       "3  @fabricadecobres n sei pq eu n tenho ps4. ou u...  Não relevante\n",
       "4  @dudalbessa falando em tv\\neu queria comprar u...      Relevante\n",
       "5  @predatorium @robertadbrito tudo menos a bater...      Relevante\n",
       "6  @lucas_hunger aliás eu venderia o ps4 pra comp...      Relevante\n",
       "7                              @nctclia ps4 mano kkk  Não relevante\n",
       "8  @xtheslime ok😔\\n\\n(esqueça seu ps4 que eu ia c...  Não relevante\n",
       "9  @robertadbrito ergonomia do de xbox é  infinit...      Relevante"
      ]
     },
     "execution_count": 44,
     "metadata": {},
     "output_type": "execute_result"
    }
   ],
   "source": [
    "test.head(10)"
   ]
  },
  {
   "cell_type": "markdown",
   "metadata": {},
   "source": [
    "___\n",
    "### Verificando a performance do Classificador\n",
    "\n",
    "Agora você deve testar o seu classificador com a base de Testes."
   ]
  },
  {
   "cell_type": "code",
   "execution_count": 45,
   "metadata": {},
   "outputs": [],
   "source": [
    "def classificador_de_tweets(tweet):\n",
    "    prob_relevante = 1\n",
    "    prob_irrelevante = 1\n",
    "    soma_relevantes = sum(counts_df['Número de vezes que aparece em tweets relevantes'])\n",
    "    soma_irrelevantes = sum(counts_df['Número de vezes que aparece em tweets irrelevantes'])\n",
    "    soma_total = len(counts_df)\n",
    "    for palavra in cleanup(tweet):\n",
    "        if palavra in counts_df.index:\n",
    "            prob_relevante *= ((counts_df['Número de vezes que aparece em tweets relevantes'][palavra])/(soma_total+soma_relevantes))\n",
    "            prob_irrelevante *= ((counts_df['Número de vezes que aparece em tweets irrelevantes'][palavra])/(soma_total+soma_irrelevantes))\n",
    "        elif palavra not in counts_df.index:\n",
    "            prob_irrelevante *= (1/(soma_total+soma_irrelevantes))\n",
    "            prob_relevante *= (1/(soma_total+soma_irrelevantes))\n",
    "    prob_relevante *= (relevantes_brutos_treino/tweets_totais_treino)\n",
    "    prob_irrelevante *= (irrelevantes_brutos_treino/tweets_totais_treino)\n",
    "           \n",
    "    if prob_relevante > prob_irrelevante:\n",
    "        return 'Relevante'\n",
    "    else:\n",
    "        return 'Não relevante'    "
   ]
  },
  {
   "cell_type": "code",
   "execution_count": 48,
   "metadata": {},
   "outputs": [
    {
     "data": {
      "text/plain": [
       "'Não relevante'"
      ]
     },
     "execution_count": 48,
     "metadata": {},
     "output_type": "execute_result"
    }
   ],
   "source": [
    "classificador_de_tweets('o ps4')"
   ]
  },
  {
   "cell_type": "code",
   "execution_count": 50,
   "metadata": {},
   "outputs": [],
   "source": [
    "classificacoes = []\n",
    "for tweet in test.Teste:\n",
    "    classificacoes.append(classificador_de_tweets(tweet))\n",
    "test['Classificador'] = classificacoes"
   ]
  },
  {
   "cell_type": "code",
   "execution_count": 52,
   "metadata": {},
   "outputs": [
    {
     "data": {
      "text/html": [
       "<div>\n",
       "<style scoped>\n",
       "    .dataframe tbody tr th:only-of-type {\n",
       "        vertical-align: middle;\n",
       "    }\n",
       "\n",
       "    .dataframe tbody tr th {\n",
       "        vertical-align: top;\n",
       "    }\n",
       "\n",
       "    .dataframe thead th {\n",
       "        text-align: right;\n",
       "    }\n",
       "</style>\n",
       "<table border=\"1\" class=\"dataframe\">\n",
       "  <thead>\n",
       "    <tr style=\"text-align: right;\">\n",
       "      <th></th>\n",
       "      <th>Teste</th>\n",
       "      <th>Relevância</th>\n",
       "      <th>Classificador</th>\n",
       "    </tr>\n",
       "  </thead>\n",
       "  <tbody>\n",
       "    <tr>\n",
       "      <td>0</td>\n",
       "      <td>@lucas_hunger pq não tem pokémon e zelda pro ps4</td>\n",
       "      <td>Não relevante</td>\n",
       "      <td>Não relevante</td>\n",
       "    </tr>\n",
       "    <tr>\n",
       "      <td>1</td>\n",
       "      <td>se isso influenciasse no preço do ps4/ps5 eu a...</td>\n",
       "      <td>Relevante</td>\n",
       "      <td>Não relevante</td>\n",
       "    </tr>\n",
       "    <tr>\n",
       "      <td>2</td>\n",
       "      <td>quem ai quer me dar um ps4 ?</td>\n",
       "      <td>Não relevante</td>\n",
       "      <td>Não relevante</td>\n",
       "    </tr>\n",
       "    <tr>\n",
       "      <td>3</td>\n",
       "      <td>@fabricadecobres n sei pq eu n tenho ps4. ou u...</td>\n",
       "      <td>Não relevante</td>\n",
       "      <td>Não relevante</td>\n",
       "    </tr>\n",
       "    <tr>\n",
       "      <td>4</td>\n",
       "      <td>@dudalbessa falando em tv\\neu queria comprar u...</td>\n",
       "      <td>Relevante</td>\n",
       "      <td>Não relevante</td>\n",
       "    </tr>\n",
       "    <tr>\n",
       "      <td>5</td>\n",
       "      <td>@predatorium @robertadbrito tudo menos a bater...</td>\n",
       "      <td>Relevante</td>\n",
       "      <td>Não relevante</td>\n",
       "    </tr>\n",
       "    <tr>\n",
       "      <td>6</td>\n",
       "      <td>@lucas_hunger aliás eu venderia o ps4 pra comp...</td>\n",
       "      <td>Relevante</td>\n",
       "      <td>Não relevante</td>\n",
       "    </tr>\n",
       "    <tr>\n",
       "      <td>7</td>\n",
       "      <td>@nctclia ps4 mano kkk</td>\n",
       "      <td>Não relevante</td>\n",
       "      <td>Não relevante</td>\n",
       "    </tr>\n",
       "    <tr>\n",
       "      <td>8</td>\n",
       "      <td>@xtheslime ok😔\\n\\n(esqueça seu ps4 que eu ia c...</td>\n",
       "      <td>Não relevante</td>\n",
       "      <td>Não relevante</td>\n",
       "    </tr>\n",
       "    <tr>\n",
       "      <td>9</td>\n",
       "      <td>@robertadbrito ergonomia do de xbox é  infinit...</td>\n",
       "      <td>Relevante</td>\n",
       "      <td>Não relevante</td>\n",
       "    </tr>\n",
       "  </tbody>\n",
       "</table>\n",
       "</div>"
      ],
      "text/plain": [
       "                                               Teste     Relevância  \\\n",
       "0   @lucas_hunger pq não tem pokémon e zelda pro ps4  Não relevante   \n",
       "1  se isso influenciasse no preço do ps4/ps5 eu a...      Relevante   \n",
       "2                       quem ai quer me dar um ps4 ?  Não relevante   \n",
       "3  @fabricadecobres n sei pq eu n tenho ps4. ou u...  Não relevante   \n",
       "4  @dudalbessa falando em tv\\neu queria comprar u...      Relevante   \n",
       "5  @predatorium @robertadbrito tudo menos a bater...      Relevante   \n",
       "6  @lucas_hunger aliás eu venderia o ps4 pra comp...      Relevante   \n",
       "7                              @nctclia ps4 mano kkk  Não relevante   \n",
       "8  @xtheslime ok😔\\n\\n(esqueça seu ps4 que eu ia c...  Não relevante   \n",
       "9  @robertadbrito ergonomia do de xbox é  infinit...      Relevante   \n",
       "\n",
       "   Classificador  \n",
       "0  Não relevante  \n",
       "1  Não relevante  \n",
       "2  Não relevante  \n",
       "3  Não relevante  \n",
       "4  Não relevante  \n",
       "5  Não relevante  \n",
       "6  Não relevante  \n",
       "7  Não relevante  \n",
       "8  Não relevante  \n",
       "9  Não relevante  "
      ]
     },
     "execution_count": 52,
     "metadata": {},
     "output_type": "execute_result"
    }
   ],
   "source": [
    "test.head(10)"
   ]
  },
  {
   "cell_type": "code",
   "execution_count": 53,
   "metadata": {},
   "outputs": [
    {
     "data": {
      "text/html": [
       "<div>\n",
       "<style scoped>\n",
       "    .dataframe tbody tr th:only-of-type {\n",
       "        vertical-align: middle;\n",
       "    }\n",
       "\n",
       "    .dataframe tbody tr th {\n",
       "        vertical-align: top;\n",
       "    }\n",
       "\n",
       "    .dataframe thead th {\n",
       "        text-align: right;\n",
       "    }\n",
       "</style>\n",
       "<table border=\"1\" class=\"dataframe\">\n",
       "  <thead>\n",
       "    <tr style=\"text-align: right;\">\n",
       "      <th>Classificador</th>\n",
       "      <th>Não relevante</th>\n",
       "    </tr>\n",
       "    <tr>\n",
       "      <th>Relevância</th>\n",
       "      <th></th>\n",
       "    </tr>\n",
       "  </thead>\n",
       "  <tbody>\n",
       "    <tr>\n",
       "      <td>Não relevante</td>\n",
       "      <td>115</td>\n",
       "    </tr>\n",
       "    <tr>\n",
       "      <td>Relevante</td>\n",
       "      <td>85</td>\n",
       "    </tr>\n",
       "  </tbody>\n",
       "</table>\n",
       "</div>"
      ],
      "text/plain": [
       "Classificador  Não relevante\n",
       "Relevância                  \n",
       "Não relevante            115\n",
       "Relevante                 85"
      ]
     },
     "execution_count": 53,
     "metadata": {},
     "output_type": "execute_result"
    }
   ],
   "source": [
    "pd.crosstab(test.Relevância,test.Classificador)"
   ]
  },
  {
   "cell_type": "code",
   "execution_count": 54,
   "metadata": {},
   "outputs": [
    {
     "data": {
      "text/html": [
       "<div>\n",
       "<style scoped>\n",
       "    .dataframe tbody tr th:only-of-type {\n",
       "        vertical-align: middle;\n",
       "    }\n",
       "\n",
       "    .dataframe tbody tr th {\n",
       "        vertical-align: top;\n",
       "    }\n",
       "\n",
       "    .dataframe thead th {\n",
       "        text-align: right;\n",
       "    }\n",
       "</style>\n",
       "<table border=\"1\" class=\"dataframe\">\n",
       "  <thead>\n",
       "    <tr style=\"text-align: right;\">\n",
       "      <th></th>\n",
       "      <th>Teste</th>\n",
       "      <th>Relevância</th>\n",
       "      <th>Classificador</th>\n",
       "    </tr>\n",
       "  </thead>\n",
       "  <tbody>\n",
       "    <tr>\n",
       "      <td>0</td>\n",
       "      <td>@lucas_hunger pq não tem pokémon e zelda pro ps4</td>\n",
       "      <td>Não relevante</td>\n",
       "      <td>Não relevante</td>\n",
       "    </tr>\n",
       "    <tr>\n",
       "      <td>1</td>\n",
       "      <td>se isso influenciasse no preço do ps4/ps5 eu a...</td>\n",
       "      <td>Relevante</td>\n",
       "      <td>Não relevante</td>\n",
       "    </tr>\n",
       "    <tr>\n",
       "      <td>2</td>\n",
       "      <td>quem ai quer me dar um ps4 ?</td>\n",
       "      <td>Não relevante</td>\n",
       "      <td>Não relevante</td>\n",
       "    </tr>\n",
       "    <tr>\n",
       "      <td>3</td>\n",
       "      <td>@fabricadecobres n sei pq eu n tenho ps4. ou u...</td>\n",
       "      <td>Não relevante</td>\n",
       "      <td>Não relevante</td>\n",
       "    </tr>\n",
       "    <tr>\n",
       "      <td>4</td>\n",
       "      <td>@dudalbessa falando em tv\\neu queria comprar u...</td>\n",
       "      <td>Relevante</td>\n",
       "      <td>Não relevante</td>\n",
       "    </tr>\n",
       "    <tr>\n",
       "      <td>5</td>\n",
       "      <td>@predatorium @robertadbrito tudo menos a bater...</td>\n",
       "      <td>Relevante</td>\n",
       "      <td>Não relevante</td>\n",
       "    </tr>\n",
       "    <tr>\n",
       "      <td>6</td>\n",
       "      <td>@lucas_hunger aliás eu venderia o ps4 pra comp...</td>\n",
       "      <td>Relevante</td>\n",
       "      <td>Não relevante</td>\n",
       "    </tr>\n",
       "    <tr>\n",
       "      <td>7</td>\n",
       "      <td>@nctclia ps4 mano kkk</td>\n",
       "      <td>Não relevante</td>\n",
       "      <td>Não relevante</td>\n",
       "    </tr>\n",
       "    <tr>\n",
       "      <td>8</td>\n",
       "      <td>@xtheslime ok😔\\n\\n(esqueça seu ps4 que eu ia c...</td>\n",
       "      <td>Não relevante</td>\n",
       "      <td>Não relevante</td>\n",
       "    </tr>\n",
       "    <tr>\n",
       "      <td>9</td>\n",
       "      <td>@robertadbrito ergonomia do de xbox é  infinit...</td>\n",
       "      <td>Relevante</td>\n",
       "      <td>Não relevante</td>\n",
       "    </tr>\n",
       "  </tbody>\n",
       "</table>\n",
       "</div>"
      ],
      "text/plain": [
       "                                               Teste     Relevância  \\\n",
       "0   @lucas_hunger pq não tem pokémon e zelda pro ps4  Não relevante   \n",
       "1  se isso influenciasse no preço do ps4/ps5 eu a...      Relevante   \n",
       "2                       quem ai quer me dar um ps4 ?  Não relevante   \n",
       "3  @fabricadecobres n sei pq eu n tenho ps4. ou u...  Não relevante   \n",
       "4  @dudalbessa falando em tv\\neu queria comprar u...      Relevante   \n",
       "5  @predatorium @robertadbrito tudo menos a bater...      Relevante   \n",
       "6  @lucas_hunger aliás eu venderia o ps4 pra comp...      Relevante   \n",
       "7                              @nctclia ps4 mano kkk  Não relevante   \n",
       "8  @xtheslime ok😔\\n\\n(esqueça seu ps4 que eu ia c...  Não relevante   \n",
       "9  @robertadbrito ergonomia do de xbox é  infinit...      Relevante   \n",
       "\n",
       "   Classificador  \n",
       "0  Não relevante  \n",
       "1  Não relevante  \n",
       "2  Não relevante  \n",
       "3  Não relevante  \n",
       "4  Não relevante  \n",
       "5  Não relevante  \n",
       "6  Não relevante  \n",
       "7  Não relevante  \n",
       "8  Não relevante  \n",
       "9  Não relevante  "
      ]
     },
     "execution_count": 54,
     "metadata": {},
     "output_type": "execute_result"
    }
   ],
   "source": [
    "test.head(10)"
   ]
  },
  {
   "cell_type": "code",
   "execution_count": 61,
   "metadata": {},
   "outputs": [
    {
     "name": "stdout",
     "output_type": "stream",
     "text": [
      "O classificador identificou 0 tweets positivos verdadeiros, com 0.0% dos tweets.\n",
      "O classificador identificou 0 tweets positivos falsos, com 0.0% dos tweets.\n",
      "O classificador identificou 200 tweets negativos verdadeiros, com 100.0% dos tweets.\n",
      "O classificador identificou 0 tweets negativos falsos, com 0.0% dos tweets.\n"
     ]
    }
   ],
   "source": [
    "positivos_verdadeiros,positivos_falsos,negativos_verdadeiros,negativos_falsos = 0,0,0,0\n",
    "\n",
    "for i in test.index:\n",
    "    test.Relevância = classificador_de_tweets(test.Teste[i])\n",
    "    if test.Relevância[i] == 'Relevante':\n",
    "        if test.Relevância[i] == classificador_de_tweets(test.Teste[i]):\n",
    "            positivos_verdadeiros += 1\n",
    "        elif test.Relevância[i] != classificador_de_tweets(test.Teste[i]):\n",
    "            positivos_falsos += 1\n",
    "    elif test.Relevância[i] == 'Não relevante':\n",
    "        if test.Relevância[i] == classificador_de_tweets(test.Teste[i]):\n",
    "            negativos_verdadeiros += 1\n",
    "        elif test.Relevância[i] != classificador_de_tweets(test.Teste[i]):\n",
    "            negativos_falsos += 1\n",
    "            \n",
    "print(f'O classificador identificou {positivos_verdadeiros} tweets positivos verdadeiros, com {positivos_verdadeiros/2}% dos tweets.')\n",
    "print(f'O classificador identificou {positivos_falsos} tweets positivos falsos, com {positivos_falsos/2}% dos tweets.')\n",
    "print(f'O classificador identificou {negativos_verdadeiros} tweets negativos verdadeiros, com {negativos_verdadeiros/2}% dos tweets.')\n",
    "print(f'O classificador identificou {negativos_falsos} tweets negativos falsos, com {negativos_falsos/2}% dos tweets.')"
   ]
  },
  {
   "cell_type": "markdown",
   "metadata": {},
   "source": [
    "___\n",
    "### Concluindo"
   ]
  },
  {
   "cell_type": "markdown",
   "metadata": {},
   "source": [
    "Ao ver o fim \n",
    "\n",
    "As mensagens que contém sarcasmo não são classificadas pelo classificador como tais, pois o significado intendido pelo usuário não é compreendido. Isso acontece por conta do classificador apenas verificar se ele seria releveante ou não, e não analisar os significados reais da palavra. Mensagens com dupla negação tambem não são classificadas como tal pelo classificador, pois ele analisa a palavra individualmente e não a possição que ocupa no texto. Um plano de expansão incluiria um aumento significativo das palavras que seriam recolhida, para que exista a possibilidade de classificar os tweets de maneira mais precisa. Além disso, novas técnicas seriam pesquisadas e implementadas para tentar distinguir os tweets reais e os que tem dupla negação e sarcasmo.\n",
    "\n",
    "O nosso projeto deveria ser financiado pois, com mais tempo de trabalho, poderíamos aperfeiçoar o nosso classificador para entender mensagens de sarcasmo, dupla negação, etc. Além disso, criaríamos mais categorias (como por exemplo, a opção \"neutro\") para tornar o classificador mais preciso. Em mais tempo de trabalho, seria possível usar esse classificador em tempo real!\n",
    "\n",
    "Não seria possível usar alimentar minha base de Treinamento automaticamente usando o próprio classificador, aplicado a novos tweets, pois os tweets para treinamento servem para ensinar o computador como ler as mensagens relevantes e irrelevantes. \n",
    "\n",
    "O classificador de Naive Bayes poderia ser usado para vários outros casos, como por exemplo recomendar um filme ou uma música para um usuário, dependendo do que ele vai selecionando. Assim, o classificador calcularia o filme ou música com a maior probabilidade de ser aprovada, levando em conta questões como gênero, duração, atores envolvidos, estilo da música, cantor/banda, etc."
   ]
  },
  {
   "cell_type": "markdown",
   "metadata": {},
   "source": [
    "___\n",
    "## Aperfeiçoamento:\n",
    "\n",
    "Os trabalhos vão evoluir em conceito dependendo da quantidade de itens avançados:\n",
    "\n",
    "* Limpar: \\n, :, \", ', (, ), etc SEM remover emojis\n",
    "* Corrigir separação de espaços entre palavras e emojis ou entre emojis e emojis\n",
    "* Propor outras limpezas e transformações que não afetem a qualidade da informação ou classificação\n",
    "* Criar categorias intermediárias de relevância baseadas na probabilidade: ex.: muito relevante, relevante, neutro, irrelevante, muito irrelevante (3 categorias: C, mais categorias conta para B)\n",
    "* Explicar por que não posso usar o próprio classificador para gerar mais amostras de treinamento\n",
    "* Propor diferentes cenários para Naïve Bayes fora do contexto do projeto\n",
    "* Sugerir e explicar melhorias reais com indicações concretas de como implementar (indicar como fazer e indicar material de pesquisa)\n",
    "* Montar um dashboard que realiza análise de sentimento e visualiza estes dados"
   ]
  },
  {
   "cell_type": "markdown",
   "metadata": {},
   "source": [
    "___\n",
    "## Referências"
   ]
  },
  {
   "cell_type": "markdown",
   "metadata": {},
   "source": [
    "[Naive Bayes and Text Classification](https://arxiv.org/pdf/1410.5329.pdf)  **Mais completo**\n",
    "\n",
    "[A practical explanation of a Naive Bayes Classifier](https://monkeylearn.com/blog/practical-explanation-naive-bayes-classifier/) **Mais simples**"
   ]
  },
  {
   "cell_type": "code",
   "execution_count": null,
   "metadata": {},
   "outputs": [],
   "source": []
  }
 ],
 "metadata": {
  "kernelspec": {
   "display_name": "Python 3",
   "language": "python",
   "name": "python3"
  },
  "language_info": {
   "codemirror_mode": {
    "name": "ipython",
    "version": 3
   },
   "file_extension": ".py",
   "mimetype": "text/x-python",
   "name": "python",
   "nbconvert_exporter": "python",
   "pygments_lexer": "ipython3",
   "version": "3.7.4"
  }
 },
 "nbformat": 4,
 "nbformat_minor": 4
}
